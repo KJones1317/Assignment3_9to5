{
    "metadata": {
        "kernelspec": {
            "name": "SQL",
            "display_name": "SQL",
            "language": "sql"
        },
        "language_info": {
            "name": "sql",
            "version": ""
        },
        "extensions": {
            "azuredatastudio": {
                "version": 1,
                "views": []
            }
        }
    },
    "nbformat_minor": 2,
    "nbformat": 4,
    "cells": [
        {
            "cell_type": "markdown",
            "source": [
                "# <span style=\"font-size:20pt;font-family:Montserrat, sans-serif;color:rgb(92, 160, 250);font-weight:700;vertical-align:baseline;white-space:pre-wrap;\">Graded Assignment 3: 9 to 5 - K. Jones</span>\n",
                "\n",
                "<span style=\"font-size:10pt;font-family:&quot;Times New Roman&quot;;color:rgb(102, 102, 102);vertical-align:baseline;white-space:pre-wrap;\">Time to show off your SQL skills! For each question, copy the SQL query you used and make note of the answer.</span>\n",
                "\n",
                "## <span style=\"font-size:12pt;font-family:Montserrat, sans-serif;color:rgb(53, 74, 95);font-weight:700;vertical-align:baseline;white-space:pre-wrap;\">The Dataset</span>\n",
                "\n",
                "<span style=\"font-size:10pt;font-family:&quot;Times New Roman&quot;;color:rgb(102, 102, 102);vertical-align:baseline;white-space:pre-wrap;\">For this assignment, you will be using the Bureau of Labor Statistics (BLS) Current Employment Survey (CES) results which can be found on</span> [<span style=\"font-size:10pt;font-family:&quot;Times New Roman&quot;;color:rgb(17, 85, 204);vertical-align:baseline;white-space:pre-wrap;\">Kaggle</span>](https://www.kaggle.com/bls/employment)<span style=\"font-size:10pt;font-family:&quot;Times New Roman&quot;;color:rgb(102, 102, 102);vertical-align:baseline;white-space:pre-wrap;\">.</span>\n",
                "\n",
                "## <span style=\"font-size:12pt;font-family:Montserrat, sans-serif;color:rgb(53, 74, 95);font-weight:700;vertical-align:baseline;white-space:pre-wrap;\">Business Issue</span>\n",
                "\n",
                "<span style=\"font-size:10pt;font-family:&quot;Times New Roman&quot;;color:rgb(102, 102, 102);vertical-align:baseline;white-space:pre-wrap;\">You are working for the Bureau of Labor Statistics with the United States government and have been approached by your boss with an important meeting request. You have been asked by your supervisor to meet with Dolly Parton whose nonprofit is looking to shed light on the state of employment in the United States. As part of the 9 to 5 project, their research is focused on production and nonsupervisory employees and how those employees fare compared to all employees in the United States. While the data the BLS collects from the CES is publicly available, Dolly Parton and her colleagues need your assistance navigating the thousands of rows in each table in LaborStatisticsDB.</span>\n",
                "\n",
                "## <span style=\"font-size:12pt;font-family:Montserrat, sans-serif;color:rgb(53, 74, 95);font-weight:700;vertical-align:baseline;white-space:pre-wrap;\">About the Dataset</span>\n",
                "\n",
                "<span style=\"font-size:10pt;font-family:&quot;Times New Roman&quot;;color:rgb(102, 102, 102);vertical-align:baseline;white-space:pre-wrap;\">This dataset comes directly from the Bureau of Labor Statistics’ Current Employment Survey (CES). Here are some things you need to know:</span>\n",
                "\n",
                "1. <span style=\"font-size:10pt;vertical-align:baseline;white-space:pre-wrap;\">The industry table contains an NAICS code. This is different from the industry code. NAICS stands for North American Industry Classification System.</span>\n",
                "    \n",
                "2. <span style=\"font-size:10pt;vertical-align:baseline;white-space:pre-wrap;\">Series ID is composed of multiple different codes. CES stands for Current Employment Survey, the name of the survey which collected the data. The industry code as specified by the BLS and the data type code as specified in the datatype table.</span>\n",
                "    \n",
                "\n",
                "## <span style=\"font-size:12pt;font-family:Montserrat, sans-serif;color:rgb(53, 74, 95);font-weight:700;vertical-align:baseline;white-space:pre-wrap;\">Set Up</span>\n",
                "\n",
                "<span style=\"font-size:10pt;font-family:&quot;Times New Roman&quot;;color:rgb(102, 102, 102);vertical-align:baseline;white-space:pre-wrap;\">To connect to the database, use the same connection info used during the SQL lessons.&nbsp;</span>  \n",
                "\n",
                "<span style=\"font-size:10pt;font-family:&quot;Times New Roman&quot;;color:rgb(102, 102, 102);vertical-align:baseline;white-space:pre-wrap;\">For the assignment, we will be using the LaborStatisticsDB database.</span>\n",
                "\n",
                "## <span style=\"font-size:12pt;font-family:Montserrat, sans-serif;color:rgb(53, 74, 95);font-weight:700;vertical-align:baseline;white-space:pre-wrap;\">Database Exploration</span>\n",
                "\n",
                "<span style=\"font-size:10pt;font-family:&quot;Times New Roman&quot;;color:rgb(102, 102, 102);vertical-align:baseline;white-space:pre-wrap;\">To start with, let’s get to know the database further.</span>\n",
                "\n",
                "1. <span style=;color:rgb(102, 102, 102);font-family:&quot;Times New Roman&quot;;font-size:10pt;white-space:pre-wrap;\">Use this space to make note of each table in the database, the columns within each table, each column’s data type, and how the tables are connected. You can write this down or draw a diagram. Whatever method helps you get an understanding of what is going on with LaborStatisticsDB.</span>"
            ],
            "metadata": {
                "azdata_cell_guid": "28ea70c5-f0be-4197-b6c0-ade22886a708"
            },
            "attachments": {}
        },
        {
            "cell_type": "markdown",
            "source": [
                "To add a photo, diagram or document to your file, drop the file into the folder that holds this notebook.  Use the the link button to the right of the  \\</\\> symbol in the gray part of this cell, the link is just the name of your file.\n",
                "\n",
                "  \n",
                "\n",
                "[Labor Database Diagram](vscode-file://vscode-app/c:/Users/kalaj/AppData/Local/Programs/Azure%20Data%20Studio/resources/app/out/vs/code/electron-browser/workbench/Labor%20Database%20Diagram)"
            ],
            "metadata": {
                "azdata_cell_guid": "aeae906c-752c-49d3-b482-3ed6a4f54b6e"
            },
            "attachments": {}
        },
        {
            "cell_type": "markdown",
            "source": [
                "2. <span style=\" color: rgb(102, 102, 102); font-family: Arvo, serif; font-size: 10pt; white-space: pre-wrap;\">What is the datatype for women employees?</span>\n",
                "\n",
                "<span style=\"font-size: 13.3333px; white-space: pre-wrap;\">This question is a bit vauge. There are two options/data types with \"Women\" in the title. Both options are technicially \"nvarchar\" data types. However the Data Codes are <u>10 for \"Women Employees\"</u> and <u>39 for \"Women Employees-to-all Employees Ratio\"</u></span>"
            ],
            "metadata": {
                "azdata_cell_guid": "01b111b7-baf1-4617-88bc-cd442826c9c9"
            },
            "attachments": {}
        },
        {
            "cell_type": "code",
            "source": [
                "USE LaborStatisticsDB\r\n",
                "\r\n",
                "SELECT *\r\n",
                "FROM datatype\r\n",
                "WHERE data_type_text LIKE '%women%'"
            ],
            "metadata": {
                "azdata_cell_guid": "02fa547c-0bb7-4a40-81c2-f5c05154df04",
                "language": "sql"
            },
            "outputs": [
                {
                    "output_type": "display_data",
                    "data": {
                        "text/html": "(2 rows affected)"
                    },
                    "metadata": {}
                },
                {
                    "output_type": "display_data",
                    "data": {
                        "text/html": "Total execution time: 00:00:00.127"
                    },
                    "metadata": {}
                },
                {
                    "output_type": "execute_result",
                    "metadata": {},
                    "execution_count": 2,
                    "data": {
                        "application/vnd.dataresource+json": {
                            "schema": {
                                "fields": [
                                    {
                                        "name": "data_type_code"
                                    },
                                    {
                                        "name": "data_type_text"
                                    }
                                ]
                            },
                            "data": [
                                {
                                    "0": "10",
                                    "1": "WOMEN EMPLOYEES"
                                },
                                {
                                    "0": "39",
                                    "1": "WOMEN EMPLOYEES-TO-ALL EMPLOYEES RATIO"
                                }
                            ]
                        },
                        "text/html": [
                            "<table>",
                            "<tr><th>data_type_code</th><th>data_type_text</th></tr>",
                            "<tr><td>10</td><td>WOMEN EMPLOYEES</td></tr>",
                            "<tr><td>39</td><td>WOMEN EMPLOYEES-TO-ALL EMPLOYEES RATIO</td></tr>",
                            "</table>"
                        ]
                    }
                }
            ],
            "execution_count": 2
        },
        {
            "cell_type": "markdown",
            "source": [
                "3. <span style=\" font-size: 10pt; white-space: pre-wrap; color: rgb(102, 102, 102); font-family: Arvo, serif;\">What is the series id for&nbsp; women employees in the commercial banking industry in the financial activities supersector?</span>\n",
                "\n",
                "<span style=\"font-size: 13.3333px; white-space: pre-wrap;\"><b><u>The Series Id is CES5552211010</u></b></span>"
            ],
            "metadata": {
                "azdata_cell_guid": "325f85cc-9545-47b3-b975-3aab6278e4ea"
            },
            "attachments": {}
        },
        {
            "cell_type": "code",
            "source": [
                "SELECT industry_name, industry_code\r\n",
                "FROM industry\r\n",
                "WHERE industry_name = 'commercial banking'\r\n",
                "\r\n",
                "SELECT supersector_name, supersector_code\r\n",
                "FROM supersector\r\n",
                "WHERE \r\n",
                "supersector_name = 'financial activities'\r\n",
                "\r\n",
                "SELECT series_id\r\n",
                "FROM LaborStatisticsDB.dbo.series\r\n",
                "WHERE data_type_code = 10 AND supersector_code = 55 AND industry_code = 55522110;"
            ],
            "metadata": {
                "azdata_cell_guid": "1315af1f-45f8-457d-8bbe-8e9f46303fca",
                "language": "sql",
                "tags": []
            },
            "outputs": [
                {
                    "output_type": "display_data",
                    "data": {
                        "text/html": "(1 row affected)"
                    },
                    "metadata": {}
                },
                {
                    "output_type": "display_data",
                    "data": {
                        "text/html": "(1 row affected)"
                    },
                    "metadata": {}
                },
                {
                    "output_type": "display_data",
                    "data": {
                        "text/html": "(2 rows affected)"
                    },
                    "metadata": {}
                },
                {
                    "output_type": "display_data",
                    "data": {
                        "text/html": "Total execution time: 00:00:00.086"
                    },
                    "metadata": {}
                },
                {
                    "output_type": "execute_result",
                    "metadata": {},
                    "execution_count": 3,
                    "data": {
                        "application/vnd.dataresource+json": {
                            "schema": {
                                "fields": [
                                    {
                                        "name": "industry_name"
                                    },
                                    {
                                        "name": "industry_code"
                                    }
                                ]
                            },
                            "data": [
                                {
                                    "0": "Commercial banking",
                                    "1": "55522110"
                                }
                            ]
                        },
                        "text/html": [
                            "<table>",
                            "<tr><th>industry_name</th><th>industry_code</th></tr>",
                            "<tr><td>Commercial banking</td><td>55522110</td></tr>",
                            "</table>"
                        ]
                    }
                },
                {
                    "output_type": "execute_result",
                    "metadata": {},
                    "execution_count": 3,
                    "data": {
                        "application/vnd.dataresource+json": {
                            "schema": {
                                "fields": [
                                    {
                                        "name": "supersector_name"
                                    },
                                    {
                                        "name": "supersector_code"
                                    }
                                ]
                            },
                            "data": [
                                {
                                    "0": "Financial activities",
                                    "1": "55"
                                }
                            ]
                        },
                        "text/html": [
                            "<table>",
                            "<tr><th>supersector_name</th><th>supersector_code</th></tr>",
                            "<tr><td>Financial activities</td><td>55</td></tr>",
                            "</table>"
                        ]
                    }
                },
                {
                    "output_type": "execute_result",
                    "metadata": {},
                    "execution_count": 3,
                    "data": {
                        "application/vnd.dataresource+json": {
                            "schema": {
                                "fields": [
                                    {
                                        "name": "series_id"
                                    }
                                ]
                            },
                            "data": [
                                {
                                    "0": "CES5552211010"
                                },
                                {
                                    "0": "CEU5552211010"
                                }
                            ]
                        },
                        "text/html": [
                            "<table>",
                            "<tr><th>series_id</th></tr>",
                            "<tr><td>CES5552211010</td></tr>",
                            "<tr><td>CEU5552211010</td></tr>",
                            "</table>"
                        ]
                    }
                }
            ],
            "execution_count": 3
        },
        {
            "cell_type": "markdown",
            "source": [
                "## <span style=\"font-size: 12pt; font-family: Montserrat, sans-serif; color: rgb(53, 74, 95); font-weight: 700; font-variant-numeric: normal; font-variant-east-asian: normal; vertical-align: baseline; white-space: pre-wrap;\">Join in on the Fun</span>\n",
                "\n",
                "<span style=\"font-size: 10pt; font-family: Arvo, serif; color: rgb(102, 102, 102); font-variant-numeric: normal; font-variant-east-asian: normal; vertical-align: baseline; white-space: pre-wrap;\">Time to start joining! You can choose the type of join you use, just make sure to make a&nbsp; note!</span>\n",
                "\n",
                "1. <span style=\" font-size: 10pt; white-space: pre-wrap; color: rgb(102, 102, 102); font-family: Arvo, serif;\">Join&nbsp; annual_2016 with series on series_id. We only want the data in the annual_2016 table to be included in the result.</span>"
            ],
            "metadata": {
                "azdata_cell_guid": "ec1dfc63-ad41-4349-8c26-1d326ace8c6c"
            },
            "attachments": {}
        },
        {
            "cell_type": "code",
            "source": [
                "SELECT TOP 10 *\r\n",
                "FROM annual_2016 AS a\r\n",
                "LEFT JOIN series AS s\r\n",
                "ON a.series_id = s.series_id;"
            ],
            "metadata": {
                "azdata_cell_guid": "cf90f0b4-c482-4fbb-ac17-d2244881caab",
                "language": "sql"
            },
            "outputs": [
                {
                    "output_type": "display_data",
                    "data": {
                        "text/html": "(10 rows affected)"
                    },
                    "metadata": {}
                },
                {
                    "output_type": "display_data",
                    "data": {
                        "text/html": "Total execution time: 00:00:00.249"
                    },
                    "metadata": {}
                },
                {
                    "output_type": "execute_result",
                    "metadata": {},
                    "execution_count": 16,
                    "data": {
                        "application/vnd.dataresource+json": {
                            "schema": {
                                "fields": [
                                    {
                                        "name": "id"
                                    },
                                    {
                                        "name": "series_id"
                                    },
                                    {
                                        "name": "year"
                                    },
                                    {
                                        "name": "period"
                                    },
                                    {
                                        "name": "value"
                                    },
                                    {
                                        "name": "footnote_codes"
                                    },
                                    {
                                        "name": "original_file"
                                    },
                                    {
                                        "name": "series_id"
                                    },
                                    {
                                        "name": "supersector_code"
                                    },
                                    {
                                        "name": "industry_code"
                                    },
                                    {
                                        "name": "data_type_code"
                                    },
                                    {
                                        "name": "seasonal"
                                    },
                                    {
                                        "name": "series_title"
                                    }
                                ]
                            },
                            "data": [
                                {
                                    "0": "0",
                                    "1": "CEU5500000007",
                                    "2": "2016",
                                    "3": "M13",
                                    "4": "36.9",
                                    "5": "NULL",
                                    "6": "ce.data.55c.FinancialActivities.ProductionEmployeeHoursAndEarnings.csv",
                                    "7": "CEU5500000007",
                                    "8": "55",
                                    "9": "55000000",
                                    "10": "7",
                                    "11": "U",
                                    "12": "Average weekly hours of production and nonsupervisory employees"
                                },
                                {
                                    "0": "1",
                                    "1": "CEU5500000008",
                                    "2": "2016",
                                    "3": "M13",
                                    "4": "26.11",
                                    "5": "NULL",
                                    "6": "ce.data.55c.FinancialActivities.ProductionEmployeeHoursAndEarnings.csv",
                                    "7": "CEU5500000008",
                                    "8": "55",
                                    "9": "55000000",
                                    "10": "8",
                                    "11": "U",
                                    "12": "Average hourly earnings of production and nonsupervisory employees"
                                },
                                {
                                    "0": "2",
                                    "1": "CEU5500000030",
                                    "2": "2016",
                                    "3": "M13",
                                    "4": "962.73",
                                    "5": "NULL",
                                    "6": "ce.data.55c.FinancialActivities.ProductionEmployeeHoursAndEarnings.csv",
                                    "7": "CEU5500000030",
                                    "8": "55",
                                    "9": "55000000",
                                    "10": "30",
                                    "11": "U",
                                    "12": "Average weekly earnings of production and nonsupervisory employees"
                                },
                                {
                                    "0": "3",
                                    "1": "CEU5500000031",
                                    "2": "2016",
                                    "3": "M13",
                                    "4": "411.29",
                                    "5": "NULL",
                                    "6": "ce.data.55c.FinancialActivities.ProductionEmployeeHoursAndEarnings.csv",
                                    "7": "CEU5500000031",
                                    "8": "55",
                                    "9": "55000000",
                                    "10": "31",
                                    "11": "U",
                                    "12": "Average weekly earnings of production and nonsupervisory employees"
                                },
                                {
                                    "0": "4",
                                    "1": "CEU5500000032",
                                    "2": "2016",
                                    "3": "M13",
                                    "4": "11.15",
                                    "5": "NULL",
                                    "6": "ce.data.55c.FinancialActivities.ProductionEmployeeHoursAndEarnings.csv",
                                    "7": "CEU5500000032",
                                    "8": "55",
                                    "9": "55000000",
                                    "10": "32",
                                    "11": "U",
                                    "12": "Average hourly earnings of production and nonsupervisory employees"
                                },
                                {
                                    "0": "5",
                                    "1": "CEU5500000034",
                                    "2": "2016",
                                    "3": "M13",
                                    "4": "111.6",
                                    "5": "NULL",
                                    "6": "ce.data.55c.FinancialActivities.ProductionEmployeeHoursAndEarnings.csv",
                                    "7": "CEU5500000034",
                                    "8": "55",
                                    "9": "55000000",
                                    "10": "34",
                                    "11": "U",
                                    "12": "Indexes of aggregate weekly hours of production and nonsupervisory employees"
                                },
                                {
                                    "0": "6",
                                    "1": "CEU5500000035",
                                    "2": "2016",
                                    "3": "M13",
                                    "4": "179.2",
                                    "5": "NULL",
                                    "6": "ce.data.55c.FinancialActivities.ProductionEmployeeHoursAndEarnings.csv",
                                    "7": "CEU5500000035",
                                    "8": "55",
                                    "9": "55000000",
                                    "10": "35",
                                    "11": "U",
                                    "12": "Indexes of aggregate weekly payrolls of production and nonsupervisory employees"
                                },
                                {
                                    "0": "7",
                                    "1": "CEU5500000081",
                                    "2": "2016",
                                    "3": "M13",
                                    "4": "236997",
                                    "5": "NULL",
                                    "6": "ce.data.55c.FinancialActivities.ProductionEmployeeHoursAndEarnings.csv",
                                    "7": "CEU5500000081",
                                    "8": "55",
                                    "9": "55000000",
                                    "10": "81",
                                    "11": "U",
                                    "12": "Aggregate weekly hours of production and nonsupervisory employees"
                                },
                                {
                                    "0": "8",
                                    "1": "CEU5500000082",
                                    "2": "2016",
                                    "3": "M13",
                                    "4": "6189003",
                                    "5": "NULL",
                                    "6": "ce.data.55c.FinancialActivities.ProductionEmployeeHoursAndEarnings.csv",
                                    "7": "CEU5500000082",
                                    "8": "55",
                                    "9": "55000000",
                                    "10": "82",
                                    "11": "U",
                                    "12": "Aggregate weekly payrolls of production and nonsupervisory employees"
                                },
                                {
                                    "0": "9",
                                    "1": "CEU5552200007",
                                    "2": "2016",
                                    "3": "M13",
                                    "4": "37.3",
                                    "5": "NULL",
                                    "6": "ce.data.55c.FinancialActivities.ProductionEmployeeHoursAndEarnings.csv",
                                    "7": "CEU5552200007",
                                    "8": "55",
                                    "9": "55522000",
                                    "10": "7",
                                    "11": "U",
                                    "12": "Average weekly hours of production and nonsupervisory employees"
                                }
                            ]
                        },
                        "text/html": [
                            "<table>",
                            "<tr><th>id</th><th>series_id</th><th>year</th><th>period</th><th>value</th><th>footnote_codes</th><th>original_file</th><th>series_id</th><th>supersector_code</th><th>industry_code</th><th>data_type_code</th><th>seasonal</th><th>series_title</th></tr>",
                            "<tr><td>0</td><td>CEU5500000007</td><td>2016</td><td>M13</td><td>36.9</td><td>NULL</td><td>ce.data.55c.FinancialActivities.ProductionEmployeeHoursAndEarnings.csv</td><td>CEU5500000007</td><td>55</td><td>55000000</td><td>7</td><td>U</td><td>Average weekly hours of production and nonsupervisory employees</td></tr>",
                            "<tr><td>1</td><td>CEU5500000008</td><td>2016</td><td>M13</td><td>26.11</td><td>NULL</td><td>ce.data.55c.FinancialActivities.ProductionEmployeeHoursAndEarnings.csv</td><td>CEU5500000008</td><td>55</td><td>55000000</td><td>8</td><td>U</td><td>Average hourly earnings of production and nonsupervisory employees</td></tr>",
                            "<tr><td>2</td><td>CEU5500000030</td><td>2016</td><td>M13</td><td>962.73</td><td>NULL</td><td>ce.data.55c.FinancialActivities.ProductionEmployeeHoursAndEarnings.csv</td><td>CEU5500000030</td><td>55</td><td>55000000</td><td>30</td><td>U</td><td>Average weekly earnings of production and nonsupervisory employees</td></tr>",
                            "<tr><td>3</td><td>CEU5500000031</td><td>2016</td><td>M13</td><td>411.29</td><td>NULL</td><td>ce.data.55c.FinancialActivities.ProductionEmployeeHoursAndEarnings.csv</td><td>CEU5500000031</td><td>55</td><td>55000000</td><td>31</td><td>U</td><td>Average weekly earnings of production and nonsupervisory employees</td></tr>",
                            "<tr><td>4</td><td>CEU5500000032</td><td>2016</td><td>M13</td><td>11.15</td><td>NULL</td><td>ce.data.55c.FinancialActivities.ProductionEmployeeHoursAndEarnings.csv</td><td>CEU5500000032</td><td>55</td><td>55000000</td><td>32</td><td>U</td><td>Average hourly earnings of production and nonsupervisory employees</td></tr>",
                            "<tr><td>5</td><td>CEU5500000034</td><td>2016</td><td>M13</td><td>111.6</td><td>NULL</td><td>ce.data.55c.FinancialActivities.ProductionEmployeeHoursAndEarnings.csv</td><td>CEU5500000034</td><td>55</td><td>55000000</td><td>34</td><td>U</td><td>Indexes of aggregate weekly hours of production and nonsupervisory employees</td></tr>",
                            "<tr><td>6</td><td>CEU5500000035</td><td>2016</td><td>M13</td><td>179.2</td><td>NULL</td><td>ce.data.55c.FinancialActivities.ProductionEmployeeHoursAndEarnings.csv</td><td>CEU5500000035</td><td>55</td><td>55000000</td><td>35</td><td>U</td><td>Indexes of aggregate weekly payrolls of production and nonsupervisory employees</td></tr>",
                            "<tr><td>7</td><td>CEU5500000081</td><td>2016</td><td>M13</td><td>236997</td><td>NULL</td><td>ce.data.55c.FinancialActivities.ProductionEmployeeHoursAndEarnings.csv</td><td>CEU5500000081</td><td>55</td><td>55000000</td><td>81</td><td>U</td><td>Aggregate weekly hours of production and nonsupervisory employees</td></tr>",
                            "<tr><td>8</td><td>CEU5500000082</td><td>2016</td><td>M13</td><td>6189003</td><td>NULL</td><td>ce.data.55c.FinancialActivities.ProductionEmployeeHoursAndEarnings.csv</td><td>CEU5500000082</td><td>55</td><td>55000000</td><td>82</td><td>U</td><td>Aggregate weekly payrolls of production and nonsupervisory employees</td></tr>",
                            "<tr><td>9</td><td>CEU5552200007</td><td>2016</td><td>M13</td><td>37.3</td><td>NULL</td><td>ce.data.55c.FinancialActivities.ProductionEmployeeHoursAndEarnings.csv</td><td>CEU5552200007</td><td>55</td><td>55522000</td><td>7</td><td>U</td><td>Average weekly hours of production and nonsupervisory employees</td></tr>",
                            "</table>"
                        ]
                    }
                }
            ],
            "execution_count": 16
        },
        {
            "cell_type": "markdown",
            "source": [
                "2. <span style=\"font-size: 10pt; white-space: pre-wrap; color: rgb(102, 102, 102); font-family: Arvo, serif;\">Join series and datatype on data_type_code</span>"
            ],
            "metadata": {
                "azdata_cell_guid": "710b59ae-224b-4f9d-b1a4-4a6b89048bbb"
            },
            "attachments": {}
        },
        {
            "cell_type": "code",
            "source": [
                "SELECT TOP 10 *\r\n",
                "FROM series AS s\r\n",
                "LEFT JOIN datatype AS dt\r\n",
                "ON s.data_type_code = dt.data_type_code"
            ],
            "metadata": {
                "azdata_cell_guid": "fca61371-c9b5-4823-a4b4-34c1279ece3e",
                "language": "sql"
            },
            "outputs": [
                {
                    "output_type": "display_data",
                    "data": {
                        "text/html": "(10 rows affected)"
                    },
                    "metadata": {}
                },
                {
                    "output_type": "display_data",
                    "data": {
                        "text/html": "Total execution time: 00:00:00.044"
                    },
                    "metadata": {}
                },
                {
                    "output_type": "execute_result",
                    "metadata": {},
                    "execution_count": 17,
                    "data": {
                        "application/vnd.dataresource+json": {
                            "schema": {
                                "fields": [
                                    {
                                        "name": "series_id"
                                    },
                                    {
                                        "name": "supersector_code"
                                    },
                                    {
                                        "name": "industry_code"
                                    },
                                    {
                                        "name": "data_type_code"
                                    },
                                    {
                                        "name": "seasonal"
                                    },
                                    {
                                        "name": "series_title"
                                    },
                                    {
                                        "name": "data_type_code"
                                    },
                                    {
                                        "name": "data_type_text"
                                    }
                                ]
                            },
                            "data": [
                                {
                                    "0": "CES0000000001",
                                    "1": "0",
                                    "2": "00000000",
                                    "3": "1",
                                    "4": "S",
                                    "5": "All employees",
                                    "6": "1",
                                    "7": "ALL EMPLOYEES"
                                },
                                {
                                    "0": "CES0000000010",
                                    "1": "0",
                                    "2": "00000000",
                                    "3": "10",
                                    "4": "S",
                                    "5": "Women employees",
                                    "6": "10",
                                    "7": "WOMEN EMPLOYEES"
                                },
                                {
                                    "0": "CES0000000025",
                                    "1": "0",
                                    "2": "00000000",
                                    "3": "25",
                                    "4": "S",
                                    "5": "All employees",
                                    "6": "25",
                                    "7": "ALL EMPLOYEES"
                                },
                                {
                                    "0": "CES0000000026",
                                    "1": "0",
                                    "2": "00000000",
                                    "3": "26",
                                    "4": "S",
                                    "5": "All employees",
                                    "6": "26",
                                    "7": "ALL EMPLOYEES"
                                },
                                {
                                    "0": "CES0500000001",
                                    "1": "5",
                                    "2": "05000000",
                                    "3": "1",
                                    "4": "S",
                                    "5": "All employees",
                                    "6": "1",
                                    "7": "ALL EMPLOYEES"
                                },
                                {
                                    "0": "CES0500000002",
                                    "1": "5",
                                    "2": "05000000",
                                    "3": "2",
                                    "4": "S",
                                    "5": "Average weekly hours of all employees",
                                    "6": "2",
                                    "7": "AVERAGE WEEKLY HOURS OF ALL EMPLOYEES"
                                },
                                {
                                    "0": "CES0500000003",
                                    "1": "5",
                                    "2": "05000000",
                                    "3": "3",
                                    "4": "S",
                                    "5": "Average hourly earnings of all employees",
                                    "6": "3",
                                    "7": "AVERAGE HOURLY EARNINGS OF ALL EMPLOYEES"
                                },
                                {
                                    "0": "CES0500000006",
                                    "1": "5",
                                    "2": "05000000",
                                    "3": "6",
                                    "4": "S",
                                    "5": "Production and nonsupervisory employees",
                                    "6": "6",
                                    "7": "PRODUCTION AND NONSUPERVISORY EMPLOYEES"
                                },
                                {
                                    "0": "CES0500000007",
                                    "1": "5",
                                    "2": "05000000",
                                    "3": "7",
                                    "4": "S",
                                    "5": "Average weekly hours of production and nonsupervisory employees",
                                    "6": "7",
                                    "7": "AVERAGE WEEKLY HOURS OF PRODUCTION AND NONSUPERVISORY EMPLOYEES"
                                },
                                {
                                    "0": "CES0500000008",
                                    "1": "5",
                                    "2": "05000000",
                                    "3": "8",
                                    "4": "S",
                                    "5": "Average hourly earnings of production and nonsupervisory employees",
                                    "6": "8",
                                    "7": "AVERAGE HOURLY EARNINGS OF PRODUCTION AND NONSUPERVISORY EMPLOYEES"
                                }
                            ]
                        },
                        "text/html": [
                            "<table>",
                            "<tr><th>series_id</th><th>supersector_code</th><th>industry_code</th><th>data_type_code</th><th>seasonal</th><th>series_title</th><th>data_type_code</th><th>data_type_text</th></tr>",
                            "<tr><td>CES0000000001</td><td>0</td><td>00000000</td><td>1</td><td>S</td><td>All employees</td><td>1</td><td>ALL EMPLOYEES</td></tr>",
                            "<tr><td>CES0000000010</td><td>0</td><td>00000000</td><td>10</td><td>S</td><td>Women employees</td><td>10</td><td>WOMEN EMPLOYEES</td></tr>",
                            "<tr><td>CES0000000025</td><td>0</td><td>00000000</td><td>25</td><td>S</td><td>All employees</td><td>25</td><td>ALL EMPLOYEES</td></tr>",
                            "<tr><td>CES0000000026</td><td>0</td><td>00000000</td><td>26</td><td>S</td><td>All employees</td><td>26</td><td>ALL EMPLOYEES</td></tr>",
                            "<tr><td>CES0500000001</td><td>5</td><td>05000000</td><td>1</td><td>S</td><td>All employees</td><td>1</td><td>ALL EMPLOYEES</td></tr>",
                            "<tr><td>CES0500000002</td><td>5</td><td>05000000</td><td>2</td><td>S</td><td>Average weekly hours of all employees</td><td>2</td><td>AVERAGE WEEKLY HOURS OF ALL EMPLOYEES</td></tr>",
                            "<tr><td>CES0500000003</td><td>5</td><td>05000000</td><td>3</td><td>S</td><td>Average hourly earnings of all employees</td><td>3</td><td>AVERAGE HOURLY EARNINGS OF ALL EMPLOYEES</td></tr>",
                            "<tr><td>CES0500000006</td><td>5</td><td>05000000</td><td>6</td><td>S</td><td>Production and nonsupervisory employees</td><td>6</td><td>PRODUCTION AND NONSUPERVISORY EMPLOYEES</td></tr>",
                            "<tr><td>CES0500000007</td><td>5</td><td>05000000</td><td>7</td><td>S</td><td>Average weekly hours of production and nonsupervisory employees</td><td>7</td><td>AVERAGE WEEKLY HOURS OF PRODUCTION AND NONSUPERVISORY EMPLOYEES</td></tr>",
                            "<tr><td>CES0500000008</td><td>5</td><td>05000000</td><td>8</td><td>S</td><td>Average hourly earnings of production and nonsupervisory employees</td><td>8</td><td>AVERAGE HOURLY EARNINGS OF PRODUCTION AND NONSUPERVISORY EMPLOYEES</td></tr>",
                            "</table>"
                        ]
                    }
                }
            ],
            "execution_count": 17
        },
        {
            "cell_type": "markdown",
            "source": [
                "3. <span style=\"font-size: 10pt; white-space: pre-wrap; color: rgb(102, 102, 102); font-family: Arvo, serif;\">Join series and industry on industry_code</span>"
            ],
            "metadata": {
                "azdata_cell_guid": "78ac8ba4-2a6a-426f-af30-6b56d9d09054"
            },
            "attachments": {}
        },
        {
            "cell_type": "code",
            "source": [
                "SELECT TOP 10 *\r\n",
                "FROM series AS s\r\n",
                "JOIN industry AS i\r\n",
                "ON s.industry_code = i.industry_code"
            ],
            "metadata": {
                "azdata_cell_guid": "ac022766-e280-4d95-8362-1f2b18773662",
                "language": "sql"
            },
            "outputs": [
                {
                    "output_type": "display_data",
                    "data": {
                        "text/html": "(10 rows affected)"
                    },
                    "metadata": {}
                },
                {
                    "output_type": "display_data",
                    "data": {
                        "text/html": "Total execution time: 00:00:00.050"
                    },
                    "metadata": {}
                },
                {
                    "output_type": "execute_result",
                    "metadata": {},
                    "execution_count": 18,
                    "data": {
                        "application/vnd.dataresource+json": {
                            "schema": {
                                "fields": [
                                    {
                                        "name": "series_id"
                                    },
                                    {
                                        "name": "supersector_code"
                                    },
                                    {
                                        "name": "industry_code"
                                    },
                                    {
                                        "name": "data_type_code"
                                    },
                                    {
                                        "name": "seasonal"
                                    },
                                    {
                                        "name": "series_title"
                                    },
                                    {
                                        "name": "id"
                                    },
                                    {
                                        "name": "industry_code"
                                    },
                                    {
                                        "name": "naics_code"
                                    },
                                    {
                                        "name": "publishing_status"
                                    },
                                    {
                                        "name": "industry_name"
                                    },
                                    {
                                        "name": "display_level"
                                    },
                                    {
                                        "name": "selectable"
                                    },
                                    {
                                        "name": "sort_sequence"
                                    }
                                ]
                            },
                            "data": [
                                {
                                    "0": "CES0000000001",
                                    "1": "0",
                                    "2": "00000000",
                                    "3": "1",
                                    "4": "S",
                                    "5": "All employees",
                                    "6": "0",
                                    "7": "0",
                                    "8": "-",
                                    "9": "B",
                                    "10": "Total nonfarm",
                                    "11": "0",
                                    "12": "T",
                                    "13": "1"
                                },
                                {
                                    "0": "CES0000000010",
                                    "1": "0",
                                    "2": "00000000",
                                    "3": "10",
                                    "4": "S",
                                    "5": "Women employees",
                                    "6": "0",
                                    "7": "0",
                                    "8": "-",
                                    "9": "B",
                                    "10": "Total nonfarm",
                                    "11": "0",
                                    "12": "T",
                                    "13": "1"
                                },
                                {
                                    "0": "CES0000000025",
                                    "1": "0",
                                    "2": "00000000",
                                    "3": "25",
                                    "4": "S",
                                    "5": "All employees",
                                    "6": "0",
                                    "7": "0",
                                    "8": "-",
                                    "9": "B",
                                    "10": "Total nonfarm",
                                    "11": "0",
                                    "12": "T",
                                    "13": "1"
                                },
                                {
                                    "0": "CES0000000026",
                                    "1": "0",
                                    "2": "00000000",
                                    "3": "26",
                                    "4": "S",
                                    "5": "All employees",
                                    "6": "0",
                                    "7": "0",
                                    "8": "-",
                                    "9": "B",
                                    "10": "Total nonfarm",
                                    "11": "0",
                                    "12": "T",
                                    "13": "1"
                                },
                                {
                                    "0": "CES0500000001",
                                    "1": "5",
                                    "2": "05000000",
                                    "3": "1",
                                    "4": "S",
                                    "5": "All employees",
                                    "6": "1",
                                    "7": "5000000",
                                    "8": "-",
                                    "9": "A",
                                    "10": "Total private",
                                    "11": "1",
                                    "12": "T",
                                    "13": "2"
                                },
                                {
                                    "0": "CES0500000002",
                                    "1": "5",
                                    "2": "05000000",
                                    "3": "2",
                                    "4": "S",
                                    "5": "Average weekly hours of all employees",
                                    "6": "1",
                                    "7": "5000000",
                                    "8": "-",
                                    "9": "A",
                                    "10": "Total private",
                                    "11": "1",
                                    "12": "T",
                                    "13": "2"
                                },
                                {
                                    "0": "CES0500000003",
                                    "1": "5",
                                    "2": "05000000",
                                    "3": "3",
                                    "4": "S",
                                    "5": "Average hourly earnings of all employees",
                                    "6": "1",
                                    "7": "5000000",
                                    "8": "-",
                                    "9": "A",
                                    "10": "Total private",
                                    "11": "1",
                                    "12": "T",
                                    "13": "2"
                                },
                                {
                                    "0": "CES0500000006",
                                    "1": "5",
                                    "2": "05000000",
                                    "3": "6",
                                    "4": "S",
                                    "5": "Production and nonsupervisory employees",
                                    "6": "1",
                                    "7": "5000000",
                                    "8": "-",
                                    "9": "A",
                                    "10": "Total private",
                                    "11": "1",
                                    "12": "T",
                                    "13": "2"
                                },
                                {
                                    "0": "CES0500000007",
                                    "1": "5",
                                    "2": "05000000",
                                    "3": "7",
                                    "4": "S",
                                    "5": "Average weekly hours of production and nonsupervisory employees",
                                    "6": "1",
                                    "7": "5000000",
                                    "8": "-",
                                    "9": "A",
                                    "10": "Total private",
                                    "11": "1",
                                    "12": "T",
                                    "13": "2"
                                },
                                {
                                    "0": "CES0500000008",
                                    "1": "5",
                                    "2": "05000000",
                                    "3": "8",
                                    "4": "S",
                                    "5": "Average hourly earnings of production and nonsupervisory employees",
                                    "6": "1",
                                    "7": "5000000",
                                    "8": "-",
                                    "9": "A",
                                    "10": "Total private",
                                    "11": "1",
                                    "12": "T",
                                    "13": "2"
                                }
                            ]
                        },
                        "text/html": [
                            "<table>",
                            "<tr><th>series_id</th><th>supersector_code</th><th>industry_code</th><th>data_type_code</th><th>seasonal</th><th>series_title</th><th>id</th><th>industry_code</th><th>naics_code</th><th>publishing_status</th><th>industry_name</th><th>display_level</th><th>selectable</th><th>sort_sequence</th></tr>",
                            "<tr><td>CES0000000001</td><td>0</td><td>00000000</td><td>1</td><td>S</td><td>All employees</td><td>0</td><td>0</td><td>-</td><td>B</td><td>Total nonfarm</td><td>0</td><td>T</td><td>1</td></tr>",
                            "<tr><td>CES0000000010</td><td>0</td><td>00000000</td><td>10</td><td>S</td><td>Women employees</td><td>0</td><td>0</td><td>-</td><td>B</td><td>Total nonfarm</td><td>0</td><td>T</td><td>1</td></tr>",
                            "<tr><td>CES0000000025</td><td>0</td><td>00000000</td><td>25</td><td>S</td><td>All employees</td><td>0</td><td>0</td><td>-</td><td>B</td><td>Total nonfarm</td><td>0</td><td>T</td><td>1</td></tr>",
                            "<tr><td>CES0000000026</td><td>0</td><td>00000000</td><td>26</td><td>S</td><td>All employees</td><td>0</td><td>0</td><td>-</td><td>B</td><td>Total nonfarm</td><td>0</td><td>T</td><td>1</td></tr>",
                            "<tr><td>CES0500000001</td><td>5</td><td>05000000</td><td>1</td><td>S</td><td>All employees</td><td>1</td><td>5000000</td><td>-</td><td>A</td><td>Total private</td><td>1</td><td>T</td><td>2</td></tr>",
                            "<tr><td>CES0500000002</td><td>5</td><td>05000000</td><td>2</td><td>S</td><td>Average weekly hours of all employees</td><td>1</td><td>5000000</td><td>-</td><td>A</td><td>Total private</td><td>1</td><td>T</td><td>2</td></tr>",
                            "<tr><td>CES0500000003</td><td>5</td><td>05000000</td><td>3</td><td>S</td><td>Average hourly earnings of all employees</td><td>1</td><td>5000000</td><td>-</td><td>A</td><td>Total private</td><td>1</td><td>T</td><td>2</td></tr>",
                            "<tr><td>CES0500000006</td><td>5</td><td>05000000</td><td>6</td><td>S</td><td>Production and nonsupervisory employees</td><td>1</td><td>5000000</td><td>-</td><td>A</td><td>Total private</td><td>1</td><td>T</td><td>2</td></tr>",
                            "<tr><td>CES0500000007</td><td>5</td><td>05000000</td><td>7</td><td>S</td><td>Average weekly hours of production and nonsupervisory employees</td><td>1</td><td>5000000</td><td>-</td><td>A</td><td>Total private</td><td>1</td><td>T</td><td>2</td></tr>",
                            "<tr><td>CES0500000008</td><td>5</td><td>05000000</td><td>8</td><td>S</td><td>Average hourly earnings of production and nonsupervisory employees</td><td>1</td><td>5000000</td><td>-</td><td>A</td><td>Total private</td><td>1</td><td>T</td><td>2</td></tr>",
                            "</table>"
                        ]
                    }
                }
            ],
            "execution_count": 18
        },
        {
            "cell_type": "markdown",
            "source": [
                "## <span style=\"font-size: 12pt; font-family: Montserrat, sans-serif; color: rgb(53, 74, 95); font-weight: 700; font-variant-numeric: normal; font-variant-east-asian: normal; vertical-align: baseline; white-space: pre-wrap;\">Aggregate Your Friends and Code some SQL</span>\n",
                "\n",
                "<span style=\"font-size: 10pt; font-family: Arvo, serif; color: rgb(102, 102, 102); font-variant-numeric: normal; font-variant-east-asian: normal; vertical-align: baseline; white-space: pre-wrap;\">Put together the following:</span>\n",
                "\n",
                "1. <span style=\"font-size: 10pt; white-space: pre-wrap; color: rgb(102, 102, 102); font-family: Arvo, serif;\">How many employees were reported in 2016 in all industries? Round to the nearest whole number.&nbsp; No chopping people into little bits, please.</span>\n",
                "\n",
                "<span style=\"font-size: 13.3333px; white-space: pre-wrap;\"><b>There were 2,340,612 reported in 2016 for all industries.</b></span>"
            ],
            "metadata": {
                "azdata_cell_guid": "f4290cc1-f824-4586-8850-59d926bf4460"
            },
            "attachments": {}
        },
        {
            "cell_type": "code",
            "source": [
                "SELECT ROUND(SUM([value]),0) AS total_employees\r\n",
                "FROM annual_2016\r\n",
                "WHERE series_id IN (\r\n",
                "    SELECT series_id\r\n",
                "    FROM series\r\n",
                "    WHERE data_type_code IN (\r\n",
                "        SELECT data_type_code\r\n",
                "        FROM datatype\r\n",
                "        WHERE data_type_text = 'ALL EMPLOYEES'\r\n",
                "    )\r\n",
                ")"
            ],
            "metadata": {
                "azdata_cell_guid": "25099068-a629-4eb5-afca-ed3748c40605",
                "language": "sql"
            },
            "outputs": [
                {
                    "output_type": "display_data",
                    "data": {
                        "text/html": "(1 row affected)"
                    },
                    "metadata": {}
                },
                {
                    "output_type": "display_data",
                    "data": {
                        "text/html": "Total execution time: 00:00:00.067"
                    },
                    "metadata": {}
                },
                {
                    "output_type": "execute_result",
                    "metadata": {},
                    "execution_count": 19,
                    "data": {
                        "application/vnd.dataresource+json": {
                            "schema": {
                                "fields": [
                                    {
                                        "name": "total_employees"
                                    }
                                ]
                            },
                            "data": [
                                {
                                    "0": "2340612"
                                }
                            ]
                        },
                        "text/html": [
                            "<table>",
                            "<tr><th>total_employees</th></tr>",
                            "<tr><td>2340612</td></tr>",
                            "</table>"
                        ]
                    }
                }
            ],
            "execution_count": 19
        },
        {
            "cell_type": "markdown",
            "source": [
                "2. <span style=\"font-size: 10pt; white-space: pre-wrap; color: rgb(102, 102, 102); font-family: Arvo, serif;\">How many women employees were reported in 2016 in all industries? Round to the nearest whole number.&nbsp;</span> \n",
                "\n",
                "**There were** <span style=\"font-size: 13.3333px; white-space: pre-wrap;\"><b>1,125,490 women</b></span> **reported in 2016 for all industries.**<span style=\"font-size: 13.3333px; white-space: pre-wrap;\"><br></span>"
            ],
            "metadata": {
                "azdata_cell_guid": "6358fab4-b933-4646-bef1-4be66dcd4317"
            },
            "attachments": {}
        },
        {
            "cell_type": "code",
            "source": [
                "SELECT ROUND(SUM([value]),0) AS total_women_emp\r\n",
                "FROM annual_2016\r\n",
                "WHERE series_id IN (\r\n",
                "    SELECT series_id\r\n",
                "    FROM series\r\n",
                "    WHERE data_type_code =10\r\n",
                ")"
            ],
            "metadata": {
                "azdata_cell_guid": "7bb0bfb7-b9e3-4672-b354-7ca705bb0c3b",
                "language": "sql"
            },
            "outputs": [
                {
                    "output_type": "display_data",
                    "data": {
                        "text/html": "(1 row affected)"
                    },
                    "metadata": {}
                },
                {
                    "output_type": "display_data",
                    "data": {
                        "text/html": "Total execution time: 00:00:00.054"
                    },
                    "metadata": {}
                },
                {
                    "output_type": "execute_result",
                    "metadata": {},
                    "execution_count": 20,
                    "data": {
                        "application/vnd.dataresource+json": {
                            "schema": {
                                "fields": [
                                    {
                                        "name": "total_women_emp"
                                    }
                                ]
                            },
                            "data": [
                                {
                                    "0": "1125490"
                                }
                            ]
                        },
                        "text/html": [
                            "<table>",
                            "<tr><th>total_women_emp</th></tr>",
                            "<tr><td>1125490</td></tr>",
                            "</table>"
                        ]
                    }
                }
            ],
            "execution_count": 20
        },
        {
            "cell_type": "markdown",
            "source": [
                "3. <span style=\"font-size: 10pt; white-space: pre-wrap; color: rgb(102, 102, 102); font-family: Arvo, serif;\">How many production/nonsupervisory employees were reported in 2016? Round to the nearest whole number.&nbsp;</span> \n",
                "\n",
                "<span style=\"font-size: 13.3333px; white-space: pre-wrap;\"><b>There were 1,263,650 production/nonsupervisory employees were reported in 2016.</b></span>"
            ],
            "metadata": {
                "azdata_cell_guid": "246ea683-2075-4337-878d-fbfdd49b2dd7"
            },
            "attachments": {}
        },
        {
            "cell_type": "code",
            "source": [
                "SELECT ROUND(SUM([value]),0) AS 'production/nonsupervisory employees'\r\n",
                "FROM annual_2016 AS a\r\n",
                "JOIN series AS s\r\n",
                "ON a.series_id = s.series_id\r\n",
                "WHERE series_title = 'PRODUCTION AND NONSUPERVISORY EMPLOYEES'"
            ],
            "metadata": {
                "azdata_cell_guid": "110f2591-069b-4bbe-87c7-2bcf76c3d36f",
                "language": "sql"
            },
            "outputs": [
                {
                    "output_type": "display_data",
                    "data": {
                        "text/html": "(1 row affected)"
                    },
                    "metadata": {}
                },
                {
                    "output_type": "display_data",
                    "data": {
                        "text/html": "Total execution time: 00:00:00.052"
                    },
                    "metadata": {}
                },
                {
                    "output_type": "execute_result",
                    "metadata": {},
                    "execution_count": 23,
                    "data": {
                        "application/vnd.dataresource+json": {
                            "schema": {
                                "fields": [
                                    {
                                        "name": "production/nonsupervisory employees"
                                    }
                                ]
                            },
                            "data": [
                                {
                                    "0": "1263650"
                                }
                            ]
                        },
                        "text/html": [
                            "<table>",
                            "<tr><th>production/nonsupervisory employees</th></tr>",
                            "<tr><td>1263650</td></tr>",
                            "</table>"
                        ]
                    }
                }
            ],
            "execution_count": 23
        },
        {
            "cell_type": "markdown",
            "source": [
                "4. <span style=\"font-size: 10pt; white-space: pre-wrap; color: rgb(102, 102, 102); font-family: Arvo, serif;\">In January 2017, what is the average weekly hours worked by production and nonsupervisory employees across all industries?</span>"
            ],
            "metadata": {
                "azdata_cell_guid": "9caa7f57-e39d-4b7a-b705-25f8fe29d60b"
            },
            "attachments": {}
        },
        {
            "cell_type": "code",
            "source": [
                ""
            ],
            "metadata": {
                "azdata_cell_guid": "9f07fa8a-4217-439a-a9cd-831240d4bc9e",
                "language": "sql"
            },
            "outputs": [
                {
                    "output_type": "display_data",
                    "data": {
                        "text/html": "Commands completed successfully."
                    },
                    "metadata": {}
                },
                {
                    "output_type": "display_data",
                    "data": {
                        "text/html": "Total execution time: 00:00:00"
                    },
                    "metadata": {}
                }
            ],
            "execution_count": 10
        },
        {
            "cell_type": "markdown",
            "source": [
                "5. <span style=\"font-size: 10pt; white-space: pre-wrap; color: rgb(102, 102, 102); font-family: Arvo, serif;\">What is the total weekly payroll for production and nonsupervisory employees across all industries in January 2017? Round to the nearest penny, please.</span>"
            ],
            "metadata": {
                "azdata_cell_guid": "9c48ff2e-a6eb-4f02-8df2-988e219fbc00"
            },
            "attachments": {}
        },
        {
            "cell_type": "code",
            "source": [
                "USE LaborStatisticsDB\r\n",
                "\r\n",
                "SELECT TOP 50*\r\n",
                "FROM datatype\r\n",
                "WHERE data_type_text LIKE '%weekly payroll%'\r\n",
                "\r\n",
                "SELECT ROUND(SUM([value]), 2) AS total_wkly_payroll_prodandnonsupe \r\n",
                "FROM january_2017\r\n",
                "WHERE series_id IN (\r\n",
                "    SELECT series_id\r\n",
                "    FROM series\r\n",
                "    WHERE data_type_code = 82\r\n",
                ")"
            ],
            "metadata": {
                "azdata_cell_guid": "c565641b-f1fa-4dbb-9320-24adfda97ca5",
                "language": "sql"
            },
            "outputs": [
                {
                    "output_type": "display_data",
                    "data": {
                        "text/html": "(4 rows affected)"
                    },
                    "metadata": {}
                },
                {
                    "output_type": "display_data",
                    "data": {
                        "text/html": "(1 row affected)"
                    },
                    "metadata": {}
                },
                {
                    "output_type": "display_data",
                    "data": {
                        "text/html": "Total execution time: 00:00:00.089"
                    },
                    "metadata": {}
                },
                {
                    "output_type": "execute_result",
                    "metadata": {},
                    "execution_count": 11,
                    "data": {
                        "application/vnd.dataresource+json": {
                            "schema": {
                                "fields": [
                                    {
                                        "name": "data_type_code"
                                    },
                                    {
                                        "name": "data_type_text"
                                    }
                                ]
                            },
                            "data": [
                                {
                                    "0": "17",
                                    "1": "INDEXES OF AGGREGATE WEEKLY PAYROLLS OF ALL EMPLOYEES"
                                },
                                {
                                    "0": "35",
                                    "1": "INDEXES OF AGGREGATE WEEKLY PAYROLLS OF PRODUCTION AND NONSUPERVISORY EMPLOYEES"
                                },
                                {
                                    "0": "57",
                                    "1": "AGGREGATE WEEKLY PAYROLLS OF ALL EMPLOYEES"
                                },
                                {
                                    "0": "82",
                                    "1": "AGGREGATE WEEKLY PAYROLLS OF PRODUCTION AND NONSUPERVISORY EMPLOYEES"
                                }
                            ]
                        },
                        "text/html": [
                            "<table>",
                            "<tr><th>data_type_code</th><th>data_type_text</th></tr>",
                            "<tr><td>17</td><td>INDEXES OF AGGREGATE WEEKLY PAYROLLS OF ALL EMPLOYEES</td></tr>",
                            "<tr><td>35</td><td>INDEXES OF AGGREGATE WEEKLY PAYROLLS OF PRODUCTION AND NONSUPERVISORY EMPLOYEES</td></tr>",
                            "<tr><td>57</td><td>AGGREGATE WEEKLY PAYROLLS OF ALL EMPLOYEES</td></tr>",
                            "<tr><td>82</td><td>AGGREGATE WEEKLY PAYROLLS OF PRODUCTION AND NONSUPERVISORY EMPLOYEES</td></tr>",
                            "</table>"
                        ]
                    }
                },
                {
                    "output_type": "execute_result",
                    "metadata": {},
                    "execution_count": 11,
                    "data": {
                        "application/vnd.dataresource+json": {
                            "schema": {
                                "fields": [
                                    {
                                        "name": "total_wkly_payroll_prodandnonsupe"
                                    }
                                ]
                            },
                            "data": [
                                {
                                    "0": "1838753220"
                                }
                            ]
                        },
                        "text/html": [
                            "<table>",
                            "<tr><th>total_wkly_payroll_prodandnonsupe</th></tr>",
                            "<tr><td>1838753220</td></tr>",
                            "</table>"
                        ]
                    }
                }
            ],
            "execution_count": 11
        },
        {
            "cell_type": "markdown",
            "source": [
                "6. <span style=\"font-size: 10pt; white-space: pre-wrap; color: rgb(102, 102, 102); font-family: Arvo, serif;\">In January 2017, which industry was the average weekly hours worked by production and nonsupervisory employees the highest? Which industry was the lowest?</span>\n",
                "\n",
                "<span style=\"font-size: 13.3333px; white-space: pre-wrap;\"><b>The average weekly hours worked by production and nonsupervisory employees across all industries were 36 hours.</b></span>"
            ],
            "metadata": {
                "azdata_cell_guid": "862fd406-4fff-49bb-9d2b-232275a06405"
            },
            "attachments": {}
        },
        {
            "cell_type": "code",
            "source": [
                "SELECT *\r\n",
                "FROM datatype\r\n",
                "WHERE data_type_text LIKE '%AVERAGE WEEKLY HOURS OF PRODUCTION AND NONSUPERVISORY EMPLOYEES%'\r\n",
                "\r\n",
                "\r\n",
                "SELECT AVG([value])\r\n",
                "FROM dbo.january_2017\r\n",
                "JOIN dbo.series\r\n",
                "ON january_2017.series_id = series.series_id\r\n",
                "WHERE data_type_code = 7"
            ],
            "metadata": {
                "azdata_cell_guid": "01e11050-5f2f-4d22-92e0-2b3024b80a5f",
                "language": "sql"
            },
            "outputs": [
                {
                    "output_type": "display_data",
                    "data": {
                        "text/html": "(1 row affected)"
                    },
                    "metadata": {}
                },
                {
                    "output_type": "display_data",
                    "data": {
                        "text/html": "(1 row affected)"
                    },
                    "metadata": {}
                },
                {
                    "output_type": "display_data",
                    "data": {
                        "text/html": "Total execution time: 00:00:00.074"
                    },
                    "metadata": {}
                },
                {
                    "output_type": "execute_result",
                    "metadata": {},
                    "execution_count": 25,
                    "data": {
                        "application/vnd.dataresource+json": {
                            "schema": {
                                "fields": [
                                    {
                                        "name": "data_type_code"
                                    },
                                    {
                                        "name": "data_type_text"
                                    }
                                ]
                            },
                            "data": [
                                {
                                    "0": "7",
                                    "1": "AVERAGE WEEKLY HOURS OF PRODUCTION AND NONSUPERVISORY EMPLOYEES"
                                }
                            ]
                        },
                        "text/html": [
                            "<table>",
                            "<tr><th>data_type_code</th><th>data_type_text</th></tr>",
                            "<tr><td>7</td><td>AVERAGE WEEKLY HOURS OF PRODUCTION AND NONSUPERVISORY EMPLOYEES</td></tr>",
                            "</table>"
                        ]
                    }
                },
                {
                    "output_type": "execute_result",
                    "metadata": {},
                    "execution_count": 25,
                    "data": {
                        "application/vnd.dataresource+json": {
                            "schema": {
                                "fields": [
                                    {
                                        "name": "(No column name)"
                                    }
                                ]
                            },
                            "data": [
                                {
                                    "0": "36.05862068965521"
                                }
                            ]
                        },
                        "text/html": [
                            "<table>",
                            "<tr><th>(No column name)</th></tr>",
                            "<tr><td>36.05862068965521</td></tr>",
                            "</table>"
                        ]
                    }
                }
            ],
            "execution_count": 25
        },
        {
            "cell_type": "markdown",
            "source": [
                "7. <span style=\"font-size: 10pt; white-space: pre-wrap; color: rgb(102, 102, 102); font-family: Arvo, serif;\">In January 2021, which industry was the total weekly payroll for production and nonsupervisory employees the highest? Which industry was the lowest?</span>\n",
                "\n",
                "<span style=\"font-size: 13.3333px; white-space: pre-wrap;\"><b>Highest weekly payroll: Total private.</b></span>\n",
                "\n",
                "<span style=\"font-size: 13.3333px; white-space: pre-wrap;\"><b>Lowest weekly payroll: Coin-operated laundries and drycleaners</b></span>"
            ],
            "metadata": {
                "azdata_cell_guid": "a53f4113-60c6-46d1-b9a3-34610c61d4f9"
            },
            "attachments": {}
        },
        {
            "cell_type": "code",
            "source": [
                "SELECT TOP 1 s.industry_code, SUM(j.value) AS total_wkly_payroll, i.industry_name\r\n",
                "FROM january_2017 as j \r\n",
                "LEFT JOIN series as s \r\n",
                "ON j.series_id = s.series_id\r\n",
                "--WHERE s.data_type_code = 7\r\n",
                "LEFT JOIN industry as i \r\n",
                "ON s.industry_code = i.industry_code\r\n",
                "WHERE s.data_type_code = 82\r\n",
                "GROUP BY s.industry_code, i.industry_name\r\n",
                "ORDER BY SUM(j.[value]) DESC, s.industry_code, i.industry_name \r\n",
                "\r\n",
                "SELECT TOP 1 s.industry_code, SUM(j.value) AS total_wkly_payroll, i.industry_name\r\n",
                "FROM january_2017 as j \r\n",
                "LEFT JOIN series as s \r\n",
                "ON j.series_id = s.series_id\r\n",
                "--WHERE s.data_type_code = 7\r\n",
                "LEFT JOIN industry as i \r\n",
                "ON s.industry_code = i.industry_code\r\n",
                "WHERE s.data_type_code = 82\r\n",
                "GROUP BY s.industry_code, i.industry_name\r\n",
                "ORDER BY SUM(j.[value]) ASC, s.industry_code, i.industry_name \r\n",
                "     "
            ],
            "metadata": {
                "azdata_cell_guid": "583695e6-7438-4e03-8970-1fe0c677a793",
                "language": "sql"
            },
            "outputs": [
                {
                    "output_type": "display_data",
                    "data": {
                        "text/html": "(1 row affected)"
                    },
                    "metadata": {}
                },
                {
                    "output_type": "display_data",
                    "data": {
                        "text/html": "(1 row affected)"
                    },
                    "metadata": {}
                },
                {
                    "output_type": "display_data",
                    "data": {
                        "text/html": "Total execution time: 00:00:00.119"
                    },
                    "metadata": {}
                },
                {
                    "output_type": "execute_result",
                    "metadata": {},
                    "execution_count": 26,
                    "data": {
                        "application/vnd.dataresource+json": {
                            "schema": {
                                "fields": [
                                    {
                                        "name": "industry_code"
                                    },
                                    {
                                        "name": "total_wkly_payroll"
                                    },
                                    {
                                        "name": "industry_name"
                                    }
                                ]
                            },
                            "data": [
                                {
                                    "0": "05000000",
                                    "1": "295944946",
                                    "2": "Total private"
                                }
                            ]
                        },
                        "text/html": [
                            "<table>",
                            "<tr><th>industry_code</th><th>total_wkly_payroll</th><th>industry_name</th></tr>",
                            "<tr><td>05000000</td><td>295944946</td><td>Total private</td></tr>",
                            "</table>"
                        ]
                    }
                },
                {
                    "output_type": "execute_result",
                    "metadata": {},
                    "execution_count": 26,
                    "data": {
                        "application/vnd.dataresource+json": {
                            "schema": {
                                "fields": [
                                    {
                                        "name": "industry_code"
                                    },
                                    {
                                        "name": "total_wkly_payroll"
                                    },
                                    {
                                        "name": "industry_name"
                                    }
                                ]
                            },
                            "data": [
                                {
                                    "0": "80812310",
                                    "1": "40448",
                                    "2": "Coin-operated laundries and drycleaners"
                                }
                            ]
                        },
                        "text/html": [
                            "<table>",
                            "<tr><th>industry_code</th><th>total_wkly_payroll</th><th>industry_name</th></tr>",
                            "<tr><td>80812310</td><td>40448</td><td>Coin-operated laundries and drycleaners</td></tr>",
                            "</table>"
                        ]
                    }
                }
            ],
            "execution_count": 26
        },
        {
            "cell_type": "markdown",
            "source": [
                "## <span style=\"font-size: 12pt; font-family: Montserrat, sans-serif; color: rgb(53, 74, 95); font-weight: 700; font-variant-numeric: normal; font-variant-east-asian: normal; vertical-align: baseline; white-space: pre-wrap;\">Subqueries, Unions, Derived Tables, Oh My!</span>\n",
                "\n",
                "1. <span style=\"font-size: 10pt; white-space: pre-wrap; color: rgb(102, 102, 102); font-family: Arvo, serif;\">Write a query that returns the series_id, industry_code, industry_name, and value from the january_2017 table but only if that value is greater than the average value for annual_2016 of data_type_code 82.</span>"
            ],
            "metadata": {
                "azdata_cell_guid": "e98ec195-5399-4718-83ef-54fb954662a5"
            },
            "attachments": {}
        },
        {
            "cell_type": "code",
            "source": [
                "SELECT TOP 25 j.series_id, i.industry_code, i.industry_name, j.[value]\r\n",
                "FROM january_2017 AS j, industry AS i, series AS s\r\n",
                "WHERE j.series_id = s.series_id AND s.industry_code = i.industry_code\r\n",
                "AND s.data_type_code= 82 AND j.[value] > (\r\n",
                "    SELECT AVG(annual_2016.[value])\r\n",
                "    FROM annual_2016\r\n",
                "    WHERE annual_2016.series_id IN (\r\n",
                "        SELECT series_id\r\n",
                "        FROM series\r\n",
                "        WHERE data_type_code = 82\r\n",
                "    )\r\n",
                ")\r\n",
                "GROUP BY j.series_id, i.industry_code, i.industry_name, j.[value]\r\n",
                ""
            ],
            "metadata": {
                "azdata_cell_guid": "7c85f70b-528f-4cbd-bd8e-a6efab1c18df",
                "language": "sql"
            },
            "outputs": [
                {
                    "output_type": "display_data",
                    "data": {
                        "text/html": "(25 rows affected)"
                    },
                    "metadata": {}
                },
                {
                    "output_type": "display_data",
                    "data": {
                        "text/html": "Total execution time: 00:00:00.088"
                    },
                    "metadata": {}
                },
                {
                    "output_type": "execute_result",
                    "metadata": {},
                    "execution_count": 28,
                    "data": {
                        "application/vnd.dataresource+json": {
                            "schema": {
                                "fields": [
                                    {
                                        "name": "series_id"
                                    },
                                    {
                                        "name": "industry_code"
                                    },
                                    {
                                        "name": "industry_name"
                                    },
                                    {
                                        "name": "value"
                                    }
                                ]
                            },
                            "data": [
                                {
                                    "0": "CES5500000082",
                                    "1": "55000000",
                                    "2": "Financial activities",
                                    "3": "6328968"
                                },
                                {
                                    "0": "CES5552200082",
                                    "1": "55522000",
                                    "2": "Credit intermediation and related activities",
                                    "3": "1717912"
                                },
                                {
                                    "0": "CES5552210082",
                                    "1": "55522100",
                                    "2": "Depository credit intermediation",
                                    "3": "971796"
                                },
                                {
                                    "0": "CES5552300082",
                                    "1": "55523000",
                                    "2": "NULL",
                                    "3": "1044224"
                                },
                                {
                                    "0": "CES5552400082",
                                    "1": "55524000",
                                    "2": "Insurance carriers and related activities",
                                    "3": "2347328"
                                },
                                {
                                    "0": "CES5552410082",
                                    "1": "55524100",
                                    "2": "Insurance carriers",
                                    "3": "1477799"
                                },
                                {
                                    "0": "CES5552420082",
                                    "1": "55524200",
                                    "2": "Insurance agencies",
                                    "3": "872398"
                                },
                                {
                                    "0": "CES5553100082",
                                    "1": "55531000",
                                    "2": "Real estate",
                                    "3": "862987"
                                },
                                {
                                    "0": "CEU5500000082",
                                    "1": "55000000",
                                    "2": "Financial activities",
                                    "3": "6467426"
                                },
                                {
                                    "0": "CEU5552200082",
                                    "1": "55522000",
                                    "2": "Credit intermediation and related activities",
                                    "3": "1767137"
                                },
                                {
                                    "0": "CEU5552210082",
                                    "1": "55522100",
                                    "2": "Depository credit intermediation",
                                    "3": "1004069"
                                },
                                {
                                    "0": "CEU5552300082",
                                    "1": "55523000",
                                    "2": "NULL",
                                    "3": "1087325"
                                },
                                {
                                    "0": "CEU5552400082",
                                    "1": "55524000",
                                    "2": "Insurance carriers and related activities",
                                    "3": "2408490"
                                },
                                {
                                    "0": "CEU5552410082",
                                    "1": "55524100",
                                    "2": "Insurance carriers",
                                    "3": "1509979"
                                },
                                {
                                    "0": "CEU5552420082",
                                    "1": "55524200",
                                    "2": "Insurance agencies",
                                    "3": "894878"
                                },
                                {
                                    "0": "CEU5553100082",
                                    "1": "55531000",
                                    "2": "Real estate",
                                    "3": "865620"
                                },
                                {
                                    "0": "CES3100000082",
                                    "1": "31000000",
                                    "2": "Durable goods",
                                    "3": "4859716"
                                },
                                {
                                    "0": "CES3133200082",
                                    "1": "31332000",
                                    "2": "Fabricated metal products",
                                    "3": "871298"
                                },
                                {
                                    "0": "CES3133600082",
                                    "1": "31336000",
                                    "2": "Transportation equipment",
                                    "3": "1257764"
                                },
                                {
                                    "0": "CEU3100000082",
                                    "1": "31000000",
                                    "2": "Durable goods",
                                    "3": "4808368"
                                },
                                {
                                    "0": "CEU3133200082",
                                    "1": "31332000",
                                    "2": "Fabricated metal products",
                                    "3": "867242"
                                },
                                {
                                    "0": "CEU3133600082",
                                    "1": "31336000",
                                    "2": "Transportation equipment",
                                    "3": "1242685"
                                },
                                {
                                    "0": "CES6500000082",
                                    "1": "65000000",
                                    "2": "Education and health services",
                                    "3": "14765156"
                                },
                                {
                                    "0": "CES6562000082",
                                    "1": "65620000",
                                    "2": "Health care and social assistance",
                                    "3": "12762526"
                                },
                                {
                                    "0": "CES6562000182",
                                    "1": "65620001",
                                    "2": "NULL",
                                    "3": "11413008"
                                }
                            ]
                        },
                        "text/html": [
                            "<table>",
                            "<tr><th>series_id</th><th>industry_code</th><th>industry_name</th><th>value</th></tr>",
                            "<tr><td>CES5500000082</td><td>55000000</td><td>Financial activities</td><td>6328968</td></tr>",
                            "<tr><td>CES5552200082</td><td>55522000</td><td>Credit intermediation and related activities</td><td>1717912</td></tr>",
                            "<tr><td>CES5552210082</td><td>55522100</td><td>Depository credit intermediation</td><td>971796</td></tr>",
                            "<tr><td>CES5552300082</td><td>55523000</td><td>NULL</td><td>1044224</td></tr>",
                            "<tr><td>CES5552400082</td><td>55524000</td><td>Insurance carriers and related activities</td><td>2347328</td></tr>",
                            "<tr><td>CES5552410082</td><td>55524100</td><td>Insurance carriers</td><td>1477799</td></tr>",
                            "<tr><td>CES5552420082</td><td>55524200</td><td>Insurance agencies</td><td>872398</td></tr>",
                            "<tr><td>CES5553100082</td><td>55531000</td><td>Real estate</td><td>862987</td></tr>",
                            "<tr><td>CEU5500000082</td><td>55000000</td><td>Financial activities</td><td>6467426</td></tr>",
                            "<tr><td>CEU5552200082</td><td>55522000</td><td>Credit intermediation and related activities</td><td>1767137</td></tr>",
                            "<tr><td>CEU5552210082</td><td>55522100</td><td>Depository credit intermediation</td><td>1004069</td></tr>",
                            "<tr><td>CEU5552300082</td><td>55523000</td><td>NULL</td><td>1087325</td></tr>",
                            "<tr><td>CEU5552400082</td><td>55524000</td><td>Insurance carriers and related activities</td><td>2408490</td></tr>",
                            "<tr><td>CEU5552410082</td><td>55524100</td><td>Insurance carriers</td><td>1509979</td></tr>",
                            "<tr><td>CEU5552420082</td><td>55524200</td><td>Insurance agencies</td><td>894878</td></tr>",
                            "<tr><td>CEU5553100082</td><td>55531000</td><td>Real estate</td><td>865620</td></tr>",
                            "<tr><td>CES3100000082</td><td>31000000</td><td>Durable goods</td><td>4859716</td></tr>",
                            "<tr><td>CES3133200082</td><td>31332000</td><td>Fabricated metal products</td><td>871298</td></tr>",
                            "<tr><td>CES3133600082</td><td>31336000</td><td>Transportation equipment</td><td>1257764</td></tr>",
                            "<tr><td>CEU3100000082</td><td>31000000</td><td>Durable goods</td><td>4808368</td></tr>",
                            "<tr><td>CEU3133200082</td><td>31332000</td><td>Fabricated metal products</td><td>867242</td></tr>",
                            "<tr><td>CEU3133600082</td><td>31336000</td><td>Transportation equipment</td><td>1242685</td></tr>",
                            "<tr><td>CES6500000082</td><td>65000000</td><td>Education and health services</td><td>14765156</td></tr>",
                            "<tr><td>CES6562000082</td><td>65620000</td><td>Health care and social assistance</td><td>12762526</td></tr>",
                            "<tr><td>CES6562000182</td><td>65620001</td><td>NULL</td><td>11413008</td></tr>",
                            "</table>"
                        ]
                    }
                }
            ],
            "execution_count": 28
        },
        {
            "cell_type": "markdown",
            "source": [
                "2. <span style=\"font-size: 10pt; white-space: pre-wrap; color: rgb(102, 102, 102); font-family: Arvo, serif;\">Create a Union table comparing average weekly earnings&nbsp; of production and nonsupervisory employees between annual_16 and january_17 using the data type 30.&nbsp; Round to the nearest penny.&nbsp; You should have a column for the average earnings and a column for the year, and the period.</span>"
            ],
            "metadata": {
                "azdata_cell_guid": "1bb0ed09-4b02-4132-910e-5903697628af"
            },
            "attachments": {}
        },
        {
            "cell_type": "code",
            "source": [
                "SELECT 'Annual_16' AS source, ROUND(avg(a.[value]), 2) AS avg_weekly_earnings, a.[year] AS results_year, \r\n",
                "a.[period] AS results_period\r\n",
                "FROM annual_2016 AS a, series AS s\r\n",
                "WHERE a.series_id = s.series_id \r\n",
                "AND s.data_type_code = 30\r\n",
                "GROUP BY a.[year], a.[period]\r\n",
                "\r\n",
                "UNION\r\n",
                "SELECT 'January_17', ROUND(AVG(j.[value]), 2), j.[year], j.[period]\r\n",
                "FROM january_2017 AS j, series AS s \r\n",
                "WHERE j.series_id = s.series_id \r\n",
                "AND s.data_type_code = 30\r\n",
                "GROUP BY j.[year], j.[period]"
            ],
            "metadata": {
                "azdata_cell_guid": "0841b6d6-9af2-41ba-8e28-dc40d08bd061",
                "language": "sql"
            },
            "outputs": [
                {
                    "output_type": "display_data",
                    "data": {
                        "text/html": "(2 rows affected)"
                    },
                    "metadata": {}
                },
                {
                    "output_type": "display_data",
                    "data": {
                        "text/html": "Total execution time: 00:00:00.250"
                    },
                    "metadata": {}
                },
                {
                    "output_type": "execute_result",
                    "metadata": {},
                    "execution_count": 29,
                    "data": {
                        "application/vnd.dataresource+json": {
                            "schema": {
                                "fields": [
                                    {
                                        "name": "source"
                                    },
                                    {
                                        "name": "avg_weekly_earnings"
                                    },
                                    {
                                        "name": "results_year"
                                    },
                                    {
                                        "name": "results_period"
                                    }
                                ]
                            },
                            "data": [
                                {
                                    "0": "Annual_16",
                                    "1": "797.2",
                                    "2": "2016",
                                    "3": "M13"
                                },
                                {
                                    "0": "January_17",
                                    "1": "808.53",
                                    "2": "2017",
                                    "3": "M01"
                                }
                            ]
                        },
                        "text/html": [
                            "<table>",
                            "<tr><th>source</th><th>avg_weekly_earnings</th><th>results_year</th><th>results_period</th></tr>",
                            "<tr><td>Annual_16</td><td>797.2</td><td>2016</td><td>M13</td></tr>",
                            "<tr><td>January_17</td><td>808.53</td><td>2017</td><td>M01</td></tr>",
                            "</table>"
                        ]
                    }
                }
            ],
            "execution_count": 29
        },
        {
            "cell_type": "markdown",
            "source": [
                "## <span style=\"font-size:12pt;font-family:Montserrat, sans-serif;color:rgb(53, 74, 95);font-weight:700;vertical-align:baseline;white-space:pre-wrap;\">Summarize Your Results</span>\n",
                "\n",
                "<span style=\"font-size:10pt;font-family:Arvo, serif;color:rgb(102, 102, 102);vertical-align:baseline;white-space:pre-wrap;\">With what you know now about the </span> <span style=\"color:rgb(102, 102, 102);font-family:&quot;Times New Roman&quot;;font-size:13.3333px;white-space:pre-wrap;\">Bureau of Labor Statistics (BLS) Current Employment Survey (CES) results and working with the</span> <span style=\"color:rgb(102, 102, 102);white-space:pre-wrap;font-family:&quot;Times New Roman&quot;;font-size:13.3333px;\">Labor Statistics Database</span><span style=\"color:rgb(102, 102, 102);font-family:Arvo, serif;font-size:10pt;white-space:pre-wrap;\">, answer the following questions. Note that while this is subjective, you should include relevant data to back up your opinion.</span>\n",
                "\n",
                "1. <span style=\"font-size:10pt;white-space:pre-wrap;color:rgb(102, 102, 102);font-family:Arvo, serif;\">During which time period did production and nonsupervisory employees fare better?</span>"
            ],
            "metadata": {
                "azdata_cell_guid": "780f65a6-b9e7-4f24-9132-293c47f559e8"
            },
            "attachments": {}
        },
        {
            "cell_type": "markdown",
            "source": [
                "Production and Nonsupervisory employees fared better during January of 2017 opposed to 2016. The average weekly earnings of the empolyees during 2016 was $707.20 whereas the earnings were $808.53 for January 2017."
            ],
            "metadata": {
                "azdata_cell_guid": "f11f1fb2-f7d1-41e5-bc9c-84087d7cfc93"
            },
            "attachments": {}
        },
        {
            "cell_type": "markdown",
            "source": [
                "2. <span style=\"font-size: 10pt; white-space: pre-wrap; color: rgb(102, 102, 102); font-family: Arvo, serif;\">In which industries did production and nonsupervisory employees fare better?</span>"
            ],
            "metadata": {
                "azdata_cell_guid": "f606e5e5-f6f1-4070-bbfa-e31617b43e56"
            },
            "attachments": {}
        },
        {
            "cell_type": "markdown",
            "source": [
                "The \"Total Private\" Industry Employees fared better than other fields along with \"<span style=\"font-size: 14px;\">Private service-providing\" and \"Professional and business services\".&nbsp;&nbsp;The lowest performing industry based on total weekly payroll was Coin-Operated Laundries and Dry Cleaners</span>"
            ],
            "metadata": {
                "azdata_cell_guid": "94e18f5d-b87b-4ba6-b1fd-bde035dafc04"
            },
            "attachments": {}
        },
        {
            "cell_type": "markdown",
            "source": [
                "3. <span style=\"font-size: 10pt; font-family: Arvo, serif; color: rgb(102, 102, 102); font-variant-numeric: normal; font-variant-east-asian: normal; vertical-align: baseline; white-space: pre-wrap;\">Now that you have explored the datasets, is there any data or information that you wish you had in this analysis?</span>"
            ],
            "metadata": {
                "azdata_cell_guid": "101e4449-601a-46c6-b217-23f3339cfa76"
            },
            "attachments": {}
        },
        {
            "cell_type": "markdown",
            "source": [
                "I think it would be interesting to compare data from at least 2 complete years. Especially if there were signicant changes in national unemployment rates or if the nation was in a recession. Analysing the data based result of econic changes within specific industries could be very intriguing and benefitical for various companies."
            ],
            "metadata": {
                "azdata_cell_guid": "d07e9180-f5e0-49b4-b395-2c6c8a5f8aac"
            },
            "attachments": {}
        }
    ]
}